{
  "nbformat": 4,
  "nbformat_minor": 0,
  "metadata": {
    "colab": {
      "provenance": [],
      "gpuType": "T4",
      "include_colab_link": true
    },
    "kernelspec": {
      "name": "python3",
      "display_name": "Python 3"
    },
    "language_info": {
      "name": "python"
    },
    "accelerator": "GPU"
  },
  "cells": [
    {
      "cell_type": "markdown",
      "metadata": {
        "id": "view-in-github",
        "colab_type": "text"
      },
      "source": [
        "<a href=\"https://colab.research.google.com/github/Nick088Official/Phi-2-Manual-Google-Colab-Notebook/blob/main/Phi2_No_Web_UI.ipynb\" target=\"_parent\"><img src=\"https://colab.research.google.com/assets/colab-badge.svg\" alt=\"Open In Colab\"/></a>"
      ]
    },
    {
      "cell_type": "markdown",
      "source": [
        "# Phi2 AI Microsoft Model NO WEB UI\n",
        " Demo Made by Simone Rizzo & Modified by Nick088\n",
        "\n",
        "This notebook is a demo for testing the new Small Language Model of Microsoft, [Phi-2 article](https://www.microsoft.com/en-us/research/blog/phi-2-the-surprising-power-of-small-language-models/).\n",
        "\n",
        "Demo Made by **Simone Rizzo**:\n",
        "- [Youtube](https://www.youtube.com/channel/UCbMlkb79E12CwveGAtdFj-A)\n",
        "- [Linkedin](https://www.linkedin.com/in/simone-rizzo-9851b7147/)\n",
        "- [TikTok](https://www.tiktok.com/@simonerizzo98)\n",
        "\n",
        "Modified by **Nick088**:\n",
        "- [Youtube](https://www.youtube.com/channel/@Nick088Official)\n",
        "- [TikTok](https://www.tiktok.com/@forgotforever)\n",
        "- [Reddit](reddit.com/user/Nick088Real)\n",
        "- [Twitter](https://twitter.com/Nick088Official)\n",
        "- [Discord](https://discord.com/channels/@me/911742715019001897)\n",
        "\n",
        "Follow and leave a like on my socials 😜"
      ],
      "metadata": {
        "id": "2Gry2XWN2Ct1"
      }
    },
    {
      "cell_type": "markdown",
      "source": [
        "**INSTALL DEPENDENCIES**"
      ],
      "metadata": {
        "id": "H2TTgxFLWNzk"
      }
    },
    {
      "cell_type": "code",
      "source": [
        "!pip install einops\n",
        "!pip install accelerate\n",
        "import torch\n",
        "from transformers import AutoModelForCausalLM, AutoTokenizer"
      ],
      "metadata": {
        "id": "0qpu5_4ssgru"
      },
      "execution_count": null,
      "outputs": []
    },
    {
      "cell_type": "markdown",
      "source": [
        "**RUN THIS CODE TO USE THE FREE CPU** (slower, no daily limit)\n",
        "\n",
        "**Please Note**: Set the CPU from Edit -> Notebook Settings -> CPU"
      ],
      "metadata": {
        "id": "dfyJI5Df2jqm"
      }
    },
    {
      "cell_type": "code",
      "execution_count": null,
      "metadata": {
        "id": "NustQ8QOsMFF"
      },
      "outputs": [],
      "source": [
        "torch.set_default_device(\"cuda\")\n",
        "model = AutoModelForCausalLM.from_pretrained(\"microsoft/phi-2\", torch_dtype=torch.float32, device_map=\"cpu\", trust_remote_code=True)\n",
        "tokenizer = AutoTokenizer.from_pretrained(\"microsoft/phi-2\", trust_remote_code=True)"
      ]
    },
    {
      "cell_type": "markdown",
      "source": [
        "**RUN THIS CODE TO USE THE FREE GPU** (faster, max 12 hours daily limit)\n",
        "\n",
        "**Please Note**: Set the T4 Free Video Card from Edit -> Notebook Settings -> T4 GPU"
      ],
      "metadata": {
        "id": "fmyQZfvnWtEp"
      }
    },
    {
      "cell_type": "code",
      "execution_count": null,
      "metadata": {
        "id": "IHNJ81qaUaSG"
      },
      "outputs": [],
      "source": [
        "torch.set_default_device(\"cuda\")\n",
        "model = AutoModelForCausalLM.from_pretrained(\"microsoft/phi-2\", torch_dtype=\"auto\", trust_remote_code=True)\n",
        "tokenizer = AutoTokenizer.from_pretrained(\"microsoft/phi-2\", trust_remote_code=True)"
      ]
    },
    {
      "cell_type": "markdown",
      "source": [
        "**RUN Phi 2**\n",
        "\n",
        "Write your Prompt (Text) between the two '''\n",
        "\n",
        "Run the Cell and wait"
      ],
      "metadata": {
        "id": "Dem_H-6TW5fd"
      }
    },
    {
      "cell_type": "code",
      "source": [
        "inputs = tokenizer(''' Write your Prompt here and Run this Cell ''', return_tensors=\"pt\", return_attention_mask=False)\n",
        "\n",
        "outputs = model.generate(**inputs, max_length=200)\n",
        "text = tokenizer.batch_decode(outputs)[0]\n",
        "text = text.split(\"<|endoftext|>\")[0]\n",
        "print(text)"
      ],
      "metadata": {
        "id": "sWd8WPs-s-Y8"
      },
      "execution_count": null,
      "outputs": []
    }
  ]
}
