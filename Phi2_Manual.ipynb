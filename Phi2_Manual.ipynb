{
  "nbformat": 4,
  "nbformat_minor": 0,
  "metadata": {
    "colab": {
      "provenance": [],
      "include_colab_link": true
    },
    "kernelspec": {
      "name": "python3",
      "display_name": "Python 3"
    },
    "language_info": {
      "name": "python"
    }
  },
  "cells": [
    {
      "cell_type": "markdown",
      "metadata": {
        "id": "view-in-github",
        "colab_type": "text"
      },
      "source": [
        "<a href=\"https://colab.research.google.com/github/Nick088Official/Phi-2-Manual-Google-Colab-Notebook/blob/main/Phi2_Manual.ipynb\" target=\"_parent\"><img src=\"https://colab.research.google.com/assets/colab-badge.svg\" alt=\"Open In Colab\"/></a>"
      ]
    },
    {
      "cell_type": "markdown",
      "source": [
        "# Phi2 AI Microsoft Model NO WEB UI\n",
        " Demo Made by Simone Rizzo & Modified by Nick088\n",
        "\n",
        "This notebook is a demo for testing the new Small Language Model of Microsoft, [Phi-2 article](https://www.microsoft.com/en-us/research/blog/phi-2-the-surprising-power-of-small-language-models/).\n",
        "\n",
        "Demo Made by **Simone Rizzo**:\n",
        "- [Youtube](https://www.youtube.com/channel/UCbMlkb79E12CwveGAtdFj-A)\n",
        "- [Linkedin](https://www.linkedin.com/in/simone-rizzo-9851b7147/)\n",
        "- [TikTok](https://www.tiktok.com/@simonerizzo98)\n",
        "\n",
        "Modified by **Nick088**:\n",
        "- [Youtube](https://www.youtube.com/channel/@Nick088Official)\n",
        "- [TikTok](https://www.tiktok.com/@forgotforever)\n",
        "- [Reddit](reddit.com/user/Nick088Real)\n",
        "- [Twitter](https://twitter.com/Nick088Official)\n",
        "- [Discord](https://discord.com/channels/@me/911742715019001897)\n",
        "\n",
        "Follow and leave a like on my socials 😜"
      ],
      "metadata": {
        "id": "2Gry2XWN2Ct1"
      }
    },
    {
      "cell_type": "markdown",
      "source": [
        "**INSTALL DEPENDENCIES**"
      ],
      "metadata": {
        "id": "H2TTgxFLWNzk"
      }
    },
    {
      "cell_type": "code",
      "source": [
        "!pip install einops\n",
        "!pip install accelerate\n",
        "import torch\n",
        "from transformers import AutoModelForCausalLM, AutoTokenizer"
      ],
      "metadata": {
        "id": "0qpu5_4ssgru"
      },
      "execution_count": null,
      "outputs": []
    },
    {
      "cell_type": "markdown",
      "source": [
        "**RUN THIS CODE TO USE THE FREE CPU** (slower, no daily limit)\n",
        "\n",
        "**Please Note**: Set the CPU from Edit -> Notebook Settings -> CPU"
      ],
      "metadata": {
        "id": "dfyJI5Df2jqm"
      }
    },
    {
      "cell_type": "code",
      "execution_count": null,
      "metadata": {
        "id": "NustQ8QOsMFF"
      },
      "outputs": [],
      "source": [
        "torch.set_default_device(\"cpu\")\n",
        "model = AutoModelForCausalLM.from_pretrained(\"microsoft/phi-2\", torch_dtype=torch.float32, device_map=\"cpu\", trust_remote_code=True)\n",
        "tokenizer = AutoTokenizer.from_pretrained(\"microsoft/phi-2\", trust_remote_code=True)"
      ]
    },
    {
      "cell_type": "markdown",
      "source": [
        "**RUN THIS CODE TO USE THE FREE GPU** (faster, max 12 hours daily limit)\n",
        "\n",
        "**Please Note**: Set the T4 Free Video Card from Edit -> Notebook Settings -> T4 GPU"
      ],
      "metadata": {
        "id": "fmyQZfvnWtEp"
      }
    },
    {
      "cell_type": "code",
      "execution_count": null,
      "metadata": {
        "id": "IHNJ81qaUaSG"
      },
      "outputs": [],
      "source": [
        "torch.set_default_device(\"cuda\")\n",
        "model = AutoModelForCausalLM.from_pretrained(\"microsoft/phi-2\", torch_dtype=\"auto\", trust_remote_code=True)\n",
        "tokenizer = AutoTokenizer.from_pretrained(\"microsoft/phi-2\", trust_remote_code=True)"
      ]
    },
    {
      "cell_type": "markdown",
      "source": [
        "**RUN Phi 2 NORMALLY**\n",
        "\n",
        "Write your Prompt (Text) between the two ''' of inputs\n",
        "\n",
        "Run the Cell and wait"
      ],
      "metadata": {
        "id": "Dem_H-6TW5fd"
      }
    },
    {
      "cell_type": "code",
      "source": [
        "inputs = tokenizer(''' Write your prompt here ''', return_tensors=\"pt\", return_attention_mask=False)\n",
        "\n",
        "outputs = model.generate(**inputs, max_length=600)\n",
        "text = tokenizer.batch_decode(outputs)[0]\n",
        "text = text.split(\"<|endoftext|>\")[0]\n",
        "print(text)"
      ],
      "metadata": {
        "id": "sWd8WPs-s-Y8"
      },
      "execution_count": null,
      "outputs": []
    },
    {
      "cell_type": "markdown",
      "source": [
        "**RUN Phi 2 WITH COSTUMIZATION**\n",
        "\n",
        "Write your Prompt (Text) between the \" of user_prompt\n",
        "\n",
        "Write your System Prompt (Text) between the \" of system_prompt (a prompt for personalizing the AI that will work always in your user prompt)\n",
        "\n",
        "Set the max_nex_tokens (the maximum number of tokens that the model will generate in response to your input, in this case Phi 2 AI is limited to a max of 2048 tokens you can put, remember tokens are the basic units of text or code processed in the AI)\n",
        "\n",
        "Set the repition_penalty (Penalize repeated tokens, so make the AI repeat less of itself)\n",
        "\n",
        "Run the Cell and wait"
      ],
      "metadata": {
        "id": "fDs9TGe7wEtI"
      }
    },
    {
      "cell_type": "code",
      "source": [
        "# User prompt\n",
        "user_prompt = \"Your prompt here\"\n",
        "\n",
        "# Additional inputs\n",
        "system_prompt = \"Prompt to personalize te AI\"  # Add your system prompt here or leave it empty if you wanna use the AI normally\n",
        "max_new_tokens = 512 # Adjust as needed, the maximum number of tokens that the model will generate in response to your input\n",
        "repetition_penalty = 1.2  # Adjust as needed, Penalize repeated tokens\n",
        "\n",
        "# Concatenate system and user prompts\n",
        "full_prompt = system_prompt + user_prompt\n",
        "\n",
        "# Tokenize the combined prompt\n",
        "inputs = tokenizer(full_prompt, return_tensors=\"pt\", return_attention_mask=False)\n",
        "\n",
        "# Generate text based on the combined prompt and additional inputs\n",
        "outputs = model.generate(\n",
        "    **inputs\n",
        ")\n",
        "\n",
        "text = tokenizer.batch_decode(outputs)[0]\n",
        "\n",
        "# Extract the generated text from the model output\n",
        "text = text[len(system_prompt):].strip()  # Remove the system prompt from the generated text\n",
        "print(text)"
      ],
      "metadata": {
        "id": "w5smD9W0bsF8"
      },
      "execution_count": null,
      "outputs": []
    }
  ]
}